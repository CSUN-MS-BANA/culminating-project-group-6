{
  "nbformat": 4,
  "nbformat_minor": 0,
  "metadata": {
    "colab": {
      "provenance": []
    },
    "kernelspec": {
      "name": "python3",
      "display_name": "Python 3"
    },
    "language_info": {
      "name": "python"
    }
  },
  "cells": [
    {
      "cell_type": "code",
      "execution_count": 1,
      "metadata": {
        "id": "SUH4Bw0GYMmq"
      },
      "outputs": [],
      "source": [
        "import pandas as pd\n",
        "from google.colab import files\n",
        "import numpy as np\n",
        "from sklearn.preprocessing import StandardScaler\n",
        "from sklearn.preprocessing import OrdinalEncoder"
      ]
    },
    {
      "cell_type": "code",
      "source": [
        "import pandas as pd\n",
        "from google.colab import files\n",
        "\n",
        "# List of file paths\n",
        "file_paths = [\n",
        "    \"PublicDebt_Indicators.csv\",\n",
        "    \"Economic_Indicators.csv\",\n",
        "    \"Social_Indicators.csv\",\n",
        "    \"Environmental_Indicators.csv\",\n",
        "    \"Statistical_Indicators.csv\"\n",
        "]\n",
        "\n",
        "# Initialize an empty list to store transformed DataFrames\n",
        "dfs = []\n",
        "\n",
        "# Process each CSV file\n",
        "for file in file_paths:\n",
        "    try:\n",
        "        # Load the CSV file\n",
        "        df = pd.read_csv(f\"/content/{file}\", index_col=False)\n",
        "\n",
        "        # Identify year columns dynamically (ignoring first four ID columns)\n",
        "        year_columns = df.columns[4:]\n",
        "\n",
        "        # Melt the DataFrame without creating extra columns\n",
        "        df_melted = pd.melt(\n",
        "            df,\n",
        "            id_vars=[\"Country Name\", \"Country Code\", \"Series Name\", \"Series Code\"],\n",
        "            value_vars=year_columns,  # Use dynamically detected year columns\n",
        "            var_name=\"Year\",\n",
        "            value_name=\"Value\"\n",
        "        )\n",
        "\n",
        "        # Special handling for \"PublicDebt_Indicators.csv\" (Keep quarters like 2022Q1)\n",
        "        if \"PublicDebt\" in file:\n",
        "            df_melted[\"Year\"] = df_melted[\"Year\"].astype(str).str.extract(r'(\\d{4}Q[1-4])')\n",
        "\n",
        "        else:  # Extract only the year for other files\n",
        "            df_melted[\"Year\"] = df_melted[\"Year\"].astype(str).str.extract(r'(\\d{4})')\n",
        "\n",
        "        # Append the transformed DataFrame to the list\n",
        "        dfs.append(df_melted)\n",
        "        print(f\"Processed: {file}  Rows: {len(df_melted)}\")\n",
        "\n",
        "    except Exception as e:\n",
        "        print(f\"Error processing {file}: {e}\")\n",
        "\n",
        "# Combine all reshaped DataFrames into one\n",
        "final_df = pd.concat(dfs, ignore_index=True)\n",
        "\n",
        "# Display a preview of the final combined dataset\n",
        "print(\"\\nFinal Combined Data Preview:\")\n",
        "print(final_df.head(10))\n",
        "\n",
        "# Save the final combined dataset\n",
        "final_df.to_csv(\"Combined_Database.csv\", index=False)\n",
        "\n",
        "# Download the final dataset\n",
        "files.download(\"Combined_Database.csv\")\n"
      ],
      "metadata": {
        "colab": {
          "base_uri": "https://localhost:8080/",
          "height": 746
        },
        "id": "UhnqYizyYTy7",
        "outputId": "e794bba9-69f3-4822-df49-efe1acba30e0"
      },
      "execution_count": 2,
      "outputs": [
        {
          "output_type": "stream",
          "name": "stdout",
          "text": [
            "Processed: PublicDebt_Indicators.csv  Rows: 58905\n",
            "Processed: Economic_Indicators.csv  Rows: 36723\n",
            "Processed: Social_Indicators.csv  Rows: 53481\n",
            "Processed: Environmental_Indicators.csv  Rows: 19167\n",
            "Processed: Statistical_Indicators.csv  Rows: 13035\n",
            "\n",
            "Final Combined Data Preview:\n",
            "  Country Name Country Code  \\\n",
            "0      Albania          ALB   \n",
            "1      Albania          ALB   \n",
            "2      Albania          ALB   \n",
            "3      Albania          ALB   \n",
            "4      Albania          ALB   \n",
            "5      Albania          ALB   \n",
            "6      Albania          ALB   \n",
            "7      Albania          ALB   \n",
            "8      Albania          ALB   \n",
            "9      Albania          ALB   \n",
            "\n",
            "                                         Series Name           Series Code  \\\n",
            "0  Gross PSD, General Gov., All maturities, All i...  DP.DOD.DECD.CR.GG.Z1   \n",
            "1  Gross PSD, General Gov., All maturities, All i...  DP.DOD.DECX.CR.GG.Z1   \n",
            "2  Gross PSD, General Gov., All maturities, All i...  DP.DOD.DECT.CR.GG.Z1   \n",
            "3  Gross PSD, General Gov., All maturities, All i...  DP.DOD.DECF.CR.GG.Z1   \n",
            "4  Gross PSD, General Gov., All maturities, All i...  DP.DOD.DECN.CR.GG.Z1   \n",
            "5  Gross PSD, General Gov., All maturities, All i...     DP.DOD.DECD.CR.GG   \n",
            "6  Gross PSD, General Gov., All maturities, All i...     DP.DOD.DECX.CR.GG   \n",
            "7  Gross PSD, General Gov., All maturities, All i...     DP.DOD.DECT.CR.GG   \n",
            "8  Gross PSD, General Gov., All maturities, All i...     DP.DOD.DECF.CR.GG   \n",
            "9  Gross PSD, General Gov., All maturities, All i...     DP.DOD.DECN.CR.GG   \n",
            "\n",
            "     Year        Value  \n",
            "0  2021Q1  38.22183894  \n",
            "1  2021Q1  31.05384214  \n",
            "2  2021Q1  69.27568107  \n",
            "3  2021Q1  34.22934044  \n",
            "4  2021Q1  35.04634064  \n",
            "5  2021Q1  6.45385E+11  \n",
            "6  2021Q1  5.24352E+11  \n",
            "7  2021Q1  1.16974E+12  \n",
            "8  2021Q1  5.77971E+11  \n",
            "9  2021Q1  5.91766E+11  \n"
          ]
        },
        {
          "output_type": "display_data",
          "data": {
            "text/plain": [
              "<IPython.core.display.Javascript object>"
            ],
            "application/javascript": [
              "\n",
              "    async function download(id, filename, size) {\n",
              "      if (!google.colab.kernel.accessAllowed) {\n",
              "        return;\n",
              "      }\n",
              "      const div = document.createElement('div');\n",
              "      const label = document.createElement('label');\n",
              "      label.textContent = `Downloading \"${filename}\": `;\n",
              "      div.appendChild(label);\n",
              "      const progress = document.createElement('progress');\n",
              "      progress.max = size;\n",
              "      div.appendChild(progress);\n",
              "      document.body.appendChild(div);\n",
              "\n",
              "      const buffers = [];\n",
              "      let downloaded = 0;\n",
              "\n",
              "      const channel = await google.colab.kernel.comms.open(id);\n",
              "      // Send a message to notify the kernel that we're ready.\n",
              "      channel.send({})\n",
              "\n",
              "      for await (const message of channel.messages) {\n",
              "        // Send a message to notify the kernel that we're ready.\n",
              "        channel.send({})\n",
              "        if (message.buffers) {\n",
              "          for (const buffer of message.buffers) {\n",
              "            buffers.push(buffer);\n",
              "            downloaded += buffer.byteLength;\n",
              "            progress.value = downloaded;\n",
              "          }\n",
              "        }\n",
              "      }\n",
              "      const blob = new Blob(buffers, {type: 'application/binary'});\n",
              "      const a = document.createElement('a');\n",
              "      a.href = window.URL.createObjectURL(blob);\n",
              "      a.download = filename;\n",
              "      div.appendChild(a);\n",
              "      a.click();\n",
              "      div.remove();\n",
              "    }\n",
              "  "
            ]
          },
          "metadata": {}
        },
        {
          "output_type": "display_data",
          "data": {
            "text/plain": [
              "<IPython.core.display.Javascript object>"
            ],
            "application/javascript": [
              "download(\"download_dcfe3cae-82f1-4510-9e0c-dd5ceeed9a8d\", \"Combined_Database.csv\", 21708577)"
            ]
          },
          "metadata": {}
        }
      ]
    },
    {
      "cell_type": "code",
      "source": [
        "# Load the dataset\n",
        "file_path = \"Combined_Database.csv\"\n",
        "df = pd.read_csv(file_path)\n",
        "\n",
        "# Display basic info\n",
        "print(df.info())\n",
        "print(df.head())"
      ],
      "metadata": {
        "colab": {
          "base_uri": "https://localhost:8080/"
        },
        "id": "BPmlRHkbYwvp",
        "outputId": "7d1a3a0e-64fe-45c1-f84b-b29181697f9c"
      },
      "execution_count": 4,
      "outputs": [
        {
          "output_type": "stream",
          "name": "stdout",
          "text": [
            "<class 'pandas.core.frame.DataFrame'>\n",
            "RangeIndex: 181311 entries, 0 to 181310\n",
            "Data columns (total 6 columns):\n",
            " #   Column        Non-Null Count   Dtype \n",
            "---  ------        --------------   ----- \n",
            " 0   Country Name  181230 non-null  object\n",
            " 1   Country Code  181176 non-null  object\n",
            " 2   Series Name   181176 non-null  object\n",
            " 3   Series Code   181176 non-null  object\n",
            " 4   Year          169530 non-null  object\n",
            " 5   Value         169410 non-null  object\n",
            "dtypes: object(6)\n",
            "memory usage: 8.3+ MB\n",
            "None\n",
            "  Country Name Country Code  \\\n",
            "0      Albania          ALB   \n",
            "1      Albania          ALB   \n",
            "2      Albania          ALB   \n",
            "3      Albania          ALB   \n",
            "4      Albania          ALB   \n",
            "\n",
            "                                         Series Name           Series Code  \\\n",
            "0  Gross PSD, General Gov., All maturities, All i...  DP.DOD.DECD.CR.GG.Z1   \n",
            "1  Gross PSD, General Gov., All maturities, All i...  DP.DOD.DECX.CR.GG.Z1   \n",
            "2  Gross PSD, General Gov., All maturities, All i...  DP.DOD.DECT.CR.GG.Z1   \n",
            "3  Gross PSD, General Gov., All maturities, All i...  DP.DOD.DECF.CR.GG.Z1   \n",
            "4  Gross PSD, General Gov., All maturities, All i...  DP.DOD.DECN.CR.GG.Z1   \n",
            "\n",
            "     Year        Value  \n",
            "0  2021Q1  38.22183894  \n",
            "1  2021Q1  31.05384214  \n",
            "2  2021Q1  69.27568107  \n",
            "3  2021Q1  34.22934044  \n",
            "4  2021Q1  35.04634064  \n"
          ]
        },
        {
          "output_type": "stream",
          "name": "stderr",
          "text": [
            "<ipython-input-4-cf25695d55ca>:3: DtypeWarning: Columns (4) have mixed types. Specify dtype option on import or set low_memory=False.\n",
            "  df = pd.read_csv(file_path)\n"
          ]
        }
      ]
    },
    {
      "cell_type": "code",
      "source": [
        "# Display missing values before processing\n",
        "print(\"\\nMissing Values Before Handling:\\n\", df.isnull().sum())"
      ],
      "metadata": {
        "colab": {
          "base_uri": "https://localhost:8080/"
        },
        "id": "jihQ4Fk6Y91L",
        "outputId": "dd0b594b-c59e-4ebf-b4d9-52e6393b4c81"
      },
      "execution_count": 5,
      "outputs": [
        {
          "output_type": "stream",
          "name": "stdout",
          "text": [
            "\n",
            "Missing Values Before Handling:\n",
            " Country Name       81\n",
            "Country Code      135\n",
            "Series Name       135\n",
            "Series Code       135\n",
            "Year            11781\n",
            "Value           11901\n",
            "dtype: int64\n"
          ]
        }
      ]
    },
    {
      "cell_type": "code",
      "source": [
        "# Convert \"Value\" column to float\n",
        "df[\"Value\"] = pd.to_numeric(df[\"Value\"], errors=\"coerce\")\n",
        "\n",
        "# Verify conversion\n",
        "print(\"\\nUpdated Data Types:\\n\", df.dtypes)"
      ],
      "metadata": {
        "colab": {
          "base_uri": "https://localhost:8080/"
        },
        "id": "ucP5dZ7HZGtY",
        "outputId": "3f9522b5-bccd-4e8b-e40b-31ea5f787fe8"
      },
      "execution_count": 6,
      "outputs": [
        {
          "output_type": "stream",
          "name": "stdout",
          "text": [
            "\n",
            "Updated Data Types:\n",
            " Country Name     object\n",
            "Country Code     object\n",
            "Series Name      object\n",
            "Series Code      object\n",
            "Year             object\n",
            "Value           float64\n",
            "dtype: object\n"
          ]
        }
      ]
    },
    {
      "cell_type": "code",
      "source": [
        "# Drop rows where both \"Value\" and \"Year\" are missing\n",
        "df = df.dropna(subset=[\"Value\", \"Year\"], how=\"all\")\n",
        "\n",
        "print(\"\\nDeleted rows where both Value and Year were missing.\")"
      ],
      "metadata": {
        "colab": {
          "base_uri": "https://localhost:8080/"
        },
        "id": "ARWw0t7TZH0P",
        "outputId": "37673f7d-3c9f-45d8-bd99-875024fe984b"
      },
      "execution_count": 7,
      "outputs": [
        {
          "output_type": "stream",
          "name": "stdout",
          "text": [
            "\n",
            "Deleted rows where both Value and Year were missing.\n"
          ]
        }
      ]
    },
    {
      "cell_type": "code",
      "source": [
        "# Get the latest number of rows after deletion\n",
        "latest_row_count = len(df)\n",
        "\n",
        "print(f\"\\nLatest number of rows after deletion: {latest_row_count}\")"
      ],
      "metadata": {
        "colab": {
          "base_uri": "https://localhost:8080/"
        },
        "id": "c09ws-ETZhs8",
        "outputId": "8b588c38-408a-42ef-82c3-67a2b5f11f06"
      },
      "execution_count": 8,
      "outputs": [
        {
          "output_type": "stream",
          "name": "stdout",
          "text": [
            "\n",
            "Latest number of rows after deletion: 169530\n"
          ]
        }
      ]
    },
    {
      "cell_type": "code",
      "source": [
        "# Count missing values before filling\n",
        "missing_values_before = df[[\"Country Name\", \"Country Code\"]].isnull().sum()\n",
        "\n",
        "# Fill missing \"Country Name\" using \"Country Code\"\n",
        "df[\"Country Name\"] = df.groupby(\"Country Code\")[\"Country Name\"].ffill().bfill()\n",
        "\n",
        "# Fill missing \"Country Code\" using \"Country Name\"\n",
        "df[\"Country Code\"] = df.groupby(\"Country Name\")[\"Country Code\"].ffill().bfill()\n",
        "\n",
        "# Count missing values after filling\n",
        "missing_values_after = df[[\"Country Name\", \"Country Code\"]].isnull().sum()\n",
        "\n",
        "# Calculate the number of filled values\n",
        "filled_values = missing_values_before - missing_values_after\n",
        "\n",
        "# Display the number of missing values filled\n",
        "print(\"\\nNumber of missing values filled:\")\n",
        "print(filled_values)"
      ],
      "metadata": {
        "colab": {
          "base_uri": "https://localhost:8080/"
        },
        "id": "mKj_zNjuZpWM",
        "outputId": "328af9cd-be68-4a9a-a301-7a45726494d0"
      },
      "execution_count": 9,
      "outputs": [
        {
          "output_type": "stream",
          "name": "stdout",
          "text": [
            "\n",
            "Number of missing values filled:\n",
            "Country Name     67\n",
            "Country Code    115\n",
            "dtype: int64\n"
          ]
        }
      ]
    },
    {
      "cell_type": "code",
      "source": [
        "# Store missing values count before filling\n",
        "missing_values_before = df[\"Value\"].isnull().sum()\n",
        "\n",
        "# Check if there are any missing values before proceeding\n",
        "if missing_values_before == 0:\n",
        "    print(\"\\nNo missing values found in 'Value' column. Nothing to fill.\")\n",
        "else:\n",
        "    # Fill missing \"Value\" using median within the same Series Name & Series Code\n",
        "    df[\"Value\"] = df.groupby([\"Series Name\", \"Series Code\"])[\"Value\"].transform(\"median\")\n",
        "\n",
        "    # Store missing values count after filling\n",
        "    missing_values_after = df[\"Value\"].isnull().sum()\n",
        "\n",
        "    # Calculate the number of filled values\n",
        "    filled_values = missing_values_before - missing_values_after\n",
        "\n",
        "    print(f\"\\nNumber of missing values filled in 'Value' column: {filled_values}\")"
      ],
      "metadata": {
        "colab": {
          "base_uri": "https://localhost:8080/"
        },
        "id": "zAE68kADaBU3",
        "outputId": "f0a14072-de47-444d-f031-515a750f434c"
      },
      "execution_count": 10,
      "outputs": [
        {
          "output_type": "stream",
          "name": "stdout",
          "text": [
            "\n",
            "Number of missing values filled in 'Value' column: 86597\n"
          ]
        }
      ]
    },
    {
      "cell_type": "code",
      "source": [
        "print(\"\\nMissing numerical values in 'Value' column AFTER filling:\")\n",
        "print(df[\"Value\"].isnull().sum())"
      ],
      "metadata": {
        "colab": {
          "base_uri": "https://localhost:8080/"
        },
        "id": "nXuFuBLbaIFi",
        "outputId": "10d41d24-f9ba-45b6-8f7f-6b9e1eb5c922"
      },
      "execution_count": 11,
      "outputs": [
        {
          "output_type": "stream",
          "name": "stdout",
          "text": [
            "\n",
            "Missing numerical values in 'Value' column AFTER filling:\n",
            "3312\n"
          ]
        }
      ]
    },
    {
      "cell_type": "code",
      "source": [
        "df = df.dropna(subset=[\"Value\"])"
      ],
      "metadata": {
        "id": "ue-jmkJDaSLS"
      },
      "execution_count": 12,
      "outputs": []
    },
    {
      "cell_type": "code",
      "source": [
        "# Initialize the StandardScaler\n",
        "scaler = StandardScaler()\n",
        "\n",
        "# Standardize the \"Value\" column\n",
        "df[\"Value\"] = scaler.fit_transform(df[[\"Value\"]])\n",
        "\n",
        "# Display standardized data\n",
        "print(\"\\nStandardized 'Value' Column:\\n\", df[\"Value\"].head())"
      ],
      "metadata": {
        "colab": {
          "base_uri": "https://localhost:8080/"
        },
        "id": "g2OUs1jRabtn",
        "outputId": "97f02b91-9e88-4364-c0a5-d2cfb525b6e2"
      },
      "execution_count": 13,
      "outputs": [
        {
          "output_type": "stream",
          "name": "stdout",
          "text": [
            "\n",
            "Standardized 'Value' Column:\n",
            " 0   -0.235872\n",
            "1   -0.235872\n",
            "2   -0.235872\n",
            "3   -0.235872\n",
            "4   -0.235872\n",
            "Name: Value, dtype: float64\n"
          ]
        }
      ]
    },
    {
      "cell_type": "code",
      "source": [
        "# List of categorical columns\n",
        "categorical_cols = [\"Country Name\", \"Country Code\", \"Series Name\", \"Series Code\", \"Year\"]\n",
        "\n",
        "# Convert categorical columns to string before encoding\n",
        "df[categorical_cols] = df[categorical_cols].astype(str)\n",
        "\n",
        "# Apply Ordinal Encoding\n",
        "encoder = OrdinalEncoder()\n",
        "df[categorical_cols] = encoder.fit_transform(df[categorical_cols])\n",
        "\n",
        "print(\"\\nEncoded Categorical Data Preview:\\n\", df.head())"
      ],
      "metadata": {
        "colab": {
          "base_uri": "https://localhost:8080/"
        },
        "id": "ZH8rN7O2afJJ",
        "outputId": "fdd8af13-b3f5-4f82-a071-b1760eb51517"
      },
      "execution_count": 14,
      "outputs": [
        {
          "output_type": "stream",
          "name": "stdout",
          "text": [
            "\n",
            "Encoded Categorical Data Preview:\n",
            "    Country Name  Country Code  Series Name  Series Code  Year     Value\n",
            "0           3.0           5.0         59.0         16.0   1.0 -0.235872\n",
            "1           3.0           5.0         65.0         36.0   1.0 -0.235872\n",
            "2           3.0           5.0         71.0         31.0   1.0 -0.235872\n",
            "3           3.0           5.0         68.0         21.0   1.0 -0.235872\n",
            "4           3.0           5.0         62.0         26.0   1.0 -0.235872\n"
          ]
        }
      ]
    },
    {
      "cell_type": "code",
      "source": [
        "# Display missing values after processing\n",
        "print(\"\\nMissing Values AFTER Handling:\\n\", df.isnull().sum())"
      ],
      "metadata": {
        "colab": {
          "base_uri": "https://localhost:8080/"
        },
        "id": "tRozrIP-agZk",
        "outputId": "f3801d71-5ec5-4eb3-f87f-5c17b95796a8"
      },
      "execution_count": 15,
      "outputs": [
        {
          "output_type": "stream",
          "name": "stdout",
          "text": [
            "\n",
            "Missing Values AFTER Handling:\n",
            " Country Name    0\n",
            "Country Code    0\n",
            "Series Name     0\n",
            "Series Code     0\n",
            "Year            0\n",
            "Value           0\n",
            "dtype: int64\n"
          ]
        }
      ]
    },
    {
      "cell_type": "code",
      "source": [
        "# Summary of numerical data\n",
        "print(\"\\n Descriptive Statistics for Numerical Data:\")\n",
        "print(df.describe())\n",
        "\n",
        "# Summary of categorical columns\n",
        "categorical_cols = [\"Country Name\", \"Country Code\", \"Series Name\", \"Series Code\", \"Year\"]\n",
        "print(\"\\n Unique Categories in Categorical Columns:\")\n",
        "for col in categorical_cols:\n",
        "    print(f\"{col}: {df[col].nunique()} unique values\")"
      ],
      "metadata": {
        "colab": {
          "base_uri": "https://localhost:8080/"
        },
        "id": "32SOQqUeaxL7",
        "outputId": "dba0daf4-fd88-402a-ad56-5bc46b757a1c"
      },
      "execution_count": 16,
      "outputs": [
        {
          "output_type": "stream",
          "name": "stdout",
          "text": [
            "\n",
            " Descriptive Statistics for Numerical Data:\n",
            "       Country Name   Country Code    Series Name    Series Code  \\\n",
            "count  166218.00000  166218.000000  166218.000000  166218.000000   \n",
            "mean      133.49935     132.225481      92.854294      86.419738   \n",
            "std        76.50603      76.236758      52.174338      54.567136   \n",
            "min         0.00000       0.000000       0.000000       0.000000   \n",
            "25%        65.00000      65.000000      53.000000      37.000000   \n",
            "50%       136.00000     133.000000      88.000000      82.000000   \n",
            "75%       201.00000     197.000000     137.000000     134.000000   \n",
            "max       265.00000     265.000000     189.000000     189.000000   \n",
            "\n",
            "                Year         Value  \n",
            "count  166218.000000  1.662180e+05  \n",
            "mean        5.707866 -1.641509e-17  \n",
            "std         4.276599  1.000003e+00  \n",
            "min         0.000000 -2.427177e-01  \n",
            "25%         1.000000 -2.358721e-01  \n",
            "50%         5.000000 -2.358721e-01  \n",
            "75%        10.000000 -2.312884e-01  \n",
            "max        14.000000  9.206024e+00  \n",
            "\n",
            " Unique Categories in Categorical Columns:\n",
            "Country Name: 266 unique values\n",
            "Country Code: 266 unique values\n",
            "Series Name: 190 unique values\n",
            "Series Code: 190 unique values\n",
            "Year: 15 unique values\n"
          ]
        }
      ]
    },
    {
      "cell_type": "code",
      "source": [],
      "metadata": {
        "id": "EvE4dqxYazpM"
      },
      "execution_count": null,
      "outputs": []
    }
  ]
}