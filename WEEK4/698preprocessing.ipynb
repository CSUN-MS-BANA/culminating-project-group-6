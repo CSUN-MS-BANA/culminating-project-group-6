{
  "nbformat": 4,
  "nbformat_minor": 0,
  "metadata": {
    "colab": {
      "provenance": []
    },
    "kernelspec": {
      "name": "python3",
      "display_name": "Python 3"
    },
    "language_info": {
      "name": "python"
    }
  },
  "cells": [
    {
      "cell_type": "code",
      "execution_count": null,
      "metadata": {
        "colab": {
          "base_uri": "https://localhost:8080/"
        },
        "id": "j4C2M15480oJ",
        "outputId": "581b8a0e-96a6-47d7-a048-4f9a701d333f"
      },
      "outputs": [
        {
          "output_type": "stream",
          "name": "stdout",
          "text": [
            "Transformed data saved to: /content/QPSD_Transformed.csv\n"
          ]
        }
      ],
      "source": [
        "import pandas as pd\n",
        "\n",
        "# Load the CSV file\n",
        "file_path = \"/content/QPSD_ExpandedAtt.csv\"\n",
        "df = pd.read_csv(file_path)\n",
        "\n",
        "# Strip whitespace from column names\n",
        "df.columns = df.columns.str.strip()\n",
        "\n",
        "# Drop unnecessary unnamed columns\n",
        "df = df.loc[:, ~df.columns.str.contains(\"Unnamed\")]\n",
        "\n",
        "# Process each year separately\n",
        "for year in [2021, 2022, 2023]:\n",
        "    year_cols = [f\"{year}Q{i}\" for i in range(1, 5) if f\"{year}Q{i}\" in df.columns]\n",
        "\n",
        "    if year_cols:  # Ensure the columns exist\n",
        "        # Identify rows where \"Series Name\" contains \"%\"\n",
        "        percentage_rows = df[\"Series Name\"].str.contains(\"%\", na=False)\n",
        "\n",
        "        # Sum absolute values\n",
        "        df.loc[~percentage_rows, year] = df.loc[~percentage_rows, year_cols].apply(pd.to_numeric, errors='coerce').sum(axis=1)\n",
        "\n",
        "        # Average percentage-based values\n",
        "        df.loc[percentage_rows, year] = df.loc[percentage_rows, year_cols].apply(pd.to_numeric, errors='coerce').mean(axis=1)\n",
        "\n",
        "        # Drop the original quarterly columns\n",
        "        df.drop(columns=year_cols, inplace=True)\n",
        "\n",
        "# Save the transformed dataset\n",
        "output_path = \"/content/QPSD_Transformed.csv\"\n",
        "df.to_csv(output_path, index=False)\n",
        "\n",
        "# Display confirmation\n",
        "print(f\"Transformed data saved to: {output_path}\")\n",
        "\n"
      ]
    },
    {
      "cell_type": "code",
      "source": [
        "import pandas as pd\n",
        "import glob\n",
        "\n",
        "# Define the path where the CSV files are stored (adjust accordingly)\n",
        "file_paths = [\"/content/Economic_Indicators.csv\", \"/content/QPSD_Transformed.csv\", \"/content/Statistical_Indicators.csv\", \"//content/socialIndicatorsAdded.csv\", \"/content/Environmental_Indicators.csv\"]\n",
        "\n",
        "# List to store transformed dataframes\n",
        "df_list = []\n",
        "\n",
        "for file in file_paths:\n",
        "    # Read each file\n",
        "    df = pd.read_csv(file)\n",
        "\n",
        "    # Convert wide format (2021, 2022, 2023) into long format\n",
        "    df_melted = df.melt(id_vars=[\"Country Name\", \"Country Code\", \"Series Name\", \"Series Code\"],\n",
        "                         var_name=\"Year\",\n",
        "                         value_name=\"Value\")\n",
        "\n",
        "    # Convert \"Year\" column to numeric type\n",
        "    df_melted[\"Year\"] = pd.to_numeric(df_melted[\"Year\"])\n",
        "\n",
        "    # Append to list\n",
        "    df_list.append(df_melted)\n",
        "\n",
        "# Concatenate all transformed data\n",
        "df_final = pd.concat(df_list, ignore_index=True)\n",
        "\n",
        "# Save the final reshaped dataset\n",
        "output_path = \"/content/reshaped_data.csv\"\n",
        "df_final.to_csv(output_path, index=False)\n",
        "\n",
        "print(f\"Reshaped data saved to: {output_path}\")\n"
      ],
      "metadata": {
        "colab": {
          "base_uri": "https://localhost:8080/"
        },
        "id": "wQR8DS-B-MPX",
        "outputId": "816f6d17-7f8f-4721-fc10-2f9194548f67"
      },
      "execution_count": null,
      "outputs": [
        {
          "output_type": "stream",
          "name": "stdout",
          "text": [
            "Reshaped data saved to: /content/reshaped_data.csv\n"
          ]
        }
      ]
    },
    {
      "cell_type": "code",
      "source": [],
      "metadata": {
        "id": "cgkGekBBNM1H"
      },
      "execution_count": null,
      "outputs": []
    }
  ]
}